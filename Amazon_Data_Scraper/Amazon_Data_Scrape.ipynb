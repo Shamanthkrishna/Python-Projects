{
 "cells": [
  {
   "cell_type": "code",
   "execution_count": 80,
   "id": "98fb6353-03b5-4456-96c6-8c9eecfbbf82",
   "metadata": {},
   "outputs": [],
   "source": [
    "from bs4 import BeautifulSoup\n",
    "import requests\n",
    "import pandas as pd"
   ]
  },
  {
   "cell_type": "code",
   "execution_count": 81,
   "id": "ac793dd3-a558-477a-b006-db865482c50c",
   "metadata": {},
   "outputs": [],
   "source": [
    "URL = \"https://www.amazon.in/s?k=gaming+laptop&crid=R6YSRQZN57FV&sprefix=gaming+lap%2Caps%2C255&ref=nb_sb_ss_pltr-sample-20_2_10\""
   ]
  },
  {
   "cell_type": "code",
   "execution_count": 82,
   "id": "5f5888ee-98e7-42d2-bf95-e6a8214e51f3",
   "metadata": {},
   "outputs": [],
   "source": [
    "HEADERS = {\n",
    "    'User-Agent': 'Mozilla/5.0 (Windows NT 10.0; Win64; x64; rv:91.0) Gecko/20100101 Firefox/91.0',\n",
    "    'Accept-Language': 'en-US,en;q=0.5',\n",
    "    'Accept-Encoding': 'gzip, deflate, br',\n",
    "    'Connection': 'keep-alive',\n",
    "    'Cache-Control': 'max-age=0',\n",
    "    'Upgrade-Insecure-Requests': '1',\n",
    "    'Accept': 'text/html,application/xhtml+xml,application/xml;q=0.9,image/webp,*/*;q=0.8',\n",
    "}\n"
   ]
  },
  {
   "cell_type": "code",
   "execution_count": 83,
   "id": "35c20aa3-e299-4a80-9fed-6cb0f5cb3690",
   "metadata": {},
   "outputs": [],
   "source": [
    "# HTTP Request\n",
    "webpage = requests.get(URL, headers = HEADERS)"
   ]
  },
  {
   "cell_type": "code",
   "execution_count": 84,
   "id": "af44460f-ec21-42fb-94b8-c162dd128df4",
   "metadata": {},
   "outputs": [
    {
     "data": {
      "text/plain": [
       "<Response [200]>"
      ]
     },
     "execution_count": 84,
     "metadata": {},
     "output_type": "execute_result"
    }
   ],
   "source": [
    "webpage"
   ]
  },
  {
   "cell_type": "code",
   "execution_count": 30,
   "id": "2c24fa85-2fea-45b4-9ac1-07fb61f6126d",
   "metadata": {},
   "outputs": [
    {
     "data": {
      "text/plain": [
       "bytes"
      ]
     },
     "execution_count": 30,
     "metadata": {},
     "output_type": "execute_result"
    }
   ],
   "source": [
    "type(webpage.content)"
   ]
  },
  {
   "cell_type": "code",
   "execution_count": 85,
   "id": "3809a4c6-b6ed-41f1-b6c7-9d86b072a8c2",
   "metadata": {},
   "outputs": [],
   "source": [
    "# Soup Object containing all data\n",
    "soup = BeautifulSoup(webpage.content, \"html.parser\")"
   ]
  },
  {
   "cell_type": "code",
   "execution_count": 86,
   "id": "bc2547c2-7a40-4631-a144-6eacfa6ecbb8",
   "metadata": {},
   "outputs": [],
   "source": [
    "# fetching links as  List of Tag Objects\n",
    "links = soup.find_all(\"a\", attrs={'class':'a-link-normal s-underline-text s-underline-link-text s-link-style a-text-normal'})"
   ]
  },
  {
   "cell_type": "code",
   "execution_count": 95,
   "id": "d06b8c8c-18c0-4a8b-ab0e-ff1f51112b8d",
   "metadata": {},
   "outputs": [],
   "source": [
    "link = links[0].get('href')"
   ]
  },
  {
   "cell_type": "code",
   "execution_count": 96,
   "id": "0dbecb24-3306-433a-ae39-907aed8e81aa",
   "metadata": {},
   "outputs": [],
   "source": [
    "product_list = \"https://www.amazon.in\" + link"
   ]
  },
  {
   "cell_type": "code",
   "execution_count": 97,
   "id": "dc8d3216-be09-40aa-b23d-5a36d12ca903",
   "metadata": {},
   "outputs": [
    {
     "data": {
      "text/plain": [
       "'https://www.amazon.in/sspa/click?ie=UTF8&spc=MTo2MDEwMjU0MDEwNzM5MTk4OjE3MjExOTkyNDc6c3BfYXRmOjMwMDA4NTQwMzIxODczMjo6MDo6&url=%2FApple-MacBook-16-inch-16%25E2%2580%2591core-40%25E2%2580%2591core%2Fdp%2FB0CM5SZ7CP%2Fref%3Dsr_1_1_sspa%3Fcrid%3DR6YSRQZN57FV%26dib%3DeyJ2IjoiMSJ9.Q3HgzcLpZn1r-vfklyjHfOd_2vSQM_98ZGX4KmvQCLlOGfkqWD0bcl57dyq8UFXRboQjOMMNo_iWi0LsWeJy02OrNLGPPNx9QSg2Yvtk7t8QlV7Qf9ipC8HJ-7vZ4jxq8NjcP4LCE_kciiMmQ4M6daKPQmpI4NAh2HZRCrI7SvnekY_U4s0tnM2-KzH0CezqYqtioxiubXI9tKGqhVViMelXELKqpPwTklPbj-ov6bU.OmvRgeu25BFcTEWhqK_EC3F_BXoGRBazjDBtnoEYdn8%26dib_tag%3Dse%26keywords%3Dgaming%2Blaptop%26qid%3D1721199247%26sprefix%3Dgaming%2Blap%252Caps%252C255%26sr%3D8-1-spons%26sp_csd%3Dd2lkZ2V0TmFtZT1zcF9hdGY%26psc%3D1'"
      ]
     },
     "execution_count": 97,
     "metadata": {},
     "output_type": "execute_result"
    }
   ],
   "source": [
    "product_list"
   ]
  },
  {
   "cell_type": "code",
   "execution_count": 98,
   "id": "7752ca6d-bf75-471a-955c-cd9c22673198",
   "metadata": {},
   "outputs": [],
   "source": [
    "new_webpage = requests.get(product_list, headers = HEADERS)"
   ]
  },
  {
   "cell_type": "code",
   "execution_count": 99,
   "id": "413e883c-94e5-47a0-bde9-614452af4efd",
   "metadata": {},
   "outputs": [
    {
     "data": {
      "text/plain": [
       "<Response [200]>"
      ]
     },
     "execution_count": 99,
     "metadata": {},
     "output_type": "execute_result"
    }
   ],
   "source": [
    "new_webpage"
   ]
  },
  {
   "cell_type": "code",
   "execution_count": 100,
   "id": "a6faf986-3748-40cc-b7fc-01897742a4b1",
   "metadata": {},
   "outputs": [],
   "source": [
    "new_soup = BeautifulSoup(new_webpage.content, \"html.parser\")"
   ]
  },
  {
   "cell_type": "code",
   "execution_count": 101,
   "id": "03f3771b-22b6-44b8-b170-2aff8d567d9d",
   "metadata": {},
   "outputs": [
    {
     "data": {
      "text/plain": [
       "'Apple 2023 MacBook Pro (16-inch, M3 Max chip with 16‑core CPU and 40‑core GPU, 48GB Unified Memory, 1TB) - Space Black'"
      ]
     },
     "execution_count": 101,
     "metadata": {},
     "output_type": "execute_result"
    }
   ],
   "source": [
    "new_soup.find(\"span\", attrs={\"id\":\"productTitle\"}).text.strip()"
   ]
  },
  {
   "cell_type": "code",
   "execution_count": 102,
   "id": "562aa12b-2a24-4163-9ccf-d05c31a32b82",
   "metadata": {},
   "outputs": [
    {
     "data": {
      "text/plain": [
       "'3,74,990'"
      ]
     },
     "execution_count": 102,
     "metadata": {},
     "output_type": "execute_result"
    }
   ],
   "source": [
    "new_soup.find(\"span\", attrs={\"class\":\"a-price-whole\"}).text.strip().rstrip('.')"
   ]
  },
  {
   "cell_type": "code",
   "execution_count": 107,
   "id": "0ac41307-d267-437f-9ca4-248d7ebeb984",
   "metadata": {},
   "outputs": [
    {
     "data": {
      "text/plain": [
       "'11 ratings'"
      ]
     },
     "execution_count": 107,
     "metadata": {},
     "output_type": "execute_result"
    }
   ],
   "source": [
    "new_soup.find(\"span\", attrs={'id':'acrCustomerReviewText'}).string.strip()"
   ]
  },
  {
   "cell_type": "code",
   "execution_count": 66,
   "id": "43924b26-816d-4b7b-8dc7-3cbb689b16e5",
   "metadata": {},
   "outputs": [
    {
     "data": {
      "text/plain": [
       "'3.4 out of 5 stars'"
      ]
     },
     "execution_count": 66,
     "metadata": {},
     "output_type": "execute_result"
    }
   ],
   "source": [
    "new_soup.find(\"span\", attrs={\"class\":\"a-icon-alt\"}).text"
   ]
  },
  {
   "cell_type": "code",
   "execution_count": 115,
   "id": "1a26db4c-f888-414e-bd92-bfc55b355e94",
   "metadata": {},
   "outputs": [
    {
     "data": {
      "text/plain": [
       "'In stock'"
      ]
     },
     "execution_count": 115,
     "metadata": {},
     "output_type": "execute_result"
    }
   ],
   "source": [
    "new_soup.find(\"span\", attrs={'class':'a-size-medium a-color-success'}).string.strip()"
   ]
  },
  {
   "cell_type": "code",
   "execution_count": 71,
   "id": "39c32862-f0cd-4c99-ade7-241e97a60e78",
   "metadata": {},
   "outputs": [],
   "source": [
    "from bs4 import BeautifulSoup\n",
    "import requests\n",
    "import pandas as pd\n",
    "import numpy as np"
   ]
  },
  {
   "cell_type": "code",
   "execution_count": 119,
   "id": "4caf1de8-ff36-4711-836c-cb1b8db8b8e6",
   "metadata": {},
   "outputs": [
    {
     "name": "stdout",
     "output_type": "stream",
     "text": [
      "Fetching main search page.......\n",
      "Extracting product links........\n",
      "Processing URL 1/31\n",
      "Processing URL 2/31\n",
      "Processing URL 3/31\n",
      "Processing URL 4/31\n",
      "Processing URL 5/31\n",
      "Processing URL 6/31\n",
      "Processing URL 7/31\n",
      "Processing URL 8/31\n",
      "Processing URL 9/31\n",
      "Processing URL 10/31\n",
      "Processing URL 11/31\n",
      "Processing URL 12/31\n",
      "Processing URL 13/31\n",
      "Processing URL 14/31\n",
      "Processing URL 15/31\n",
      "Processing URL 16/31\n",
      "Processing URL 17/31\n",
      "Processing URL 18/31\n",
      "Error processing URL https://www.amazon.inhttps://aax-eu.amazon.in/x/c/JG6huLo16eVKycRkNP317NQAAAGQv5aX2QMAAAH2AQBvbm9fdHhuX2JpZDMgICBvbm9fdHhuX2ltcDEgICB7iJbu/https://www.amazon.in/ARZOPA-Portable-Kickstand-External-Switch-Z1FC/dp/B0CRKGKZVX/ref=sxin_23_sbv_search_btf?content-id=amzn1.sym.288d7cd9-bdfb-4778-882a-c15de0f76151%3Aamzn1.sym.288d7cd9-bdfb-4778-882a-c15de0f76151&crid=R6YSRQZN57FV&cv_ct_cx=gaming+laptop&dib=eyJ2IjoiMSJ9.60h1nULbxOIH8XbHwpWOGQ.sF-q7GOITKxak8fnA4pv8FnzEtpg6OHLrEpkV4B4R5M&dib_tag=se&keywords=gaming+laptop&pd_rd_i=B0CRKGKZVX&pd_rd_r=0e3dec00-9d53-40c2-9ab5-1afcf71f0ef5&pd_rd_w=bUsOO&pd_rd_wg=I0jjD&pf_rd_p=288d7cd9-bdfb-4778-882a-c15de0f76151&pf_rd_r=XXZE55A4Y0KXRJAWSN0X&qid=1721201235&sbo=RZvfv%2F%2FHxDF%2BO5021pAnSA%3D%3D&sprefix=gaming+lap%2Caps%2C255&sr=1-1-9131241a-a358-4619-a7b8-0f5a65d91d81: HTTPSConnectionPool(host='www.amazon.inhttps', port=443): Max retries exceeded with url: //aax-eu.amazon.in/x/c/JG6huLo16eVKycRkNP317NQAAAGQv5aX2QMAAAH2AQBvbm9fdHhuX2JpZDMgICBvbm9fdHhuX2ltcDEgICB7iJbu/https://www.amazon.in/ARZOPA-Portable-Kickstand-External-Switch-Z1FC/dp/B0CRKGKZVX/ref=sxin_23_sbv_search_btf?content-id=amzn1.sym.288d7cd9-bdfb-4778-882a-c15de0f76151%3Aamzn1.sym.288d7cd9-bdfb-4778-882a-c15de0f76151&crid=R6YSRQZN57FV&cv_ct_cx=gaming+laptop&dib=eyJ2IjoiMSJ9.60h1nULbxOIH8XbHwpWOGQ.sF-q7GOITKxak8fnA4pv8FnzEtpg6OHLrEpkV4B4R5M&dib_tag=se&keywords=gaming+laptop&pd_rd_i=B0CRKGKZVX&pd_rd_r=0e3dec00-9d53-40c2-9ab5-1afcf71f0ef5&pd_rd_w=bUsOO&pd_rd_wg=I0jjD&pf_rd_p=288d7cd9-bdfb-4778-882a-c15de0f76151&pf_rd_r=XXZE55A4Y0KXRJAWSN0X&qid=1721201235&sbo=RZvfv%2F%2FHxDF%2BO5021pAnSA%3D%3D&sprefix=gaming+lap%2Caps%2C255&sr=1-1-9131241a-a358-4619-a7b8-0f5a65d91d81 (Caused by NameResolutionError(\"<urllib3.connection.HTTPSConnection object at 0x00000198CC1F0B80>: Failed to resolve 'www.amazon.inhttps' ([Errno 11001] getaddrinfo failed)\"))\n",
      "Processing URL 19/31\n",
      "Error processing URL https://www.amazon.inhttps://aax-eu.amazon.in/x/c/JG6huLo16eVKycRkNP317NQAAAGQv5aX2QMAAAH2AQBvbm9fdHhuX2JpZDMgICBvbm9fdHhuX2ltcDEgICB7iJbu/https://www.amazon.in/ARZOPA-Portable-Kickstand-External-Switch-Z1FC/dp/B0CRKGKZVX/ref=sxin_23_sbv_search_btf?content-id=amzn1.sym.288d7cd9-bdfb-4778-882a-c15de0f76151%3Aamzn1.sym.288d7cd9-bdfb-4778-882a-c15de0f76151&crid=R6YSRQZN57FV&cv_ct_cx=gaming+laptop&dib=eyJ2IjoiMSJ9.60h1nULbxOIH8XbHwpWOGQ.sF-q7GOITKxak8fnA4pv8FnzEtpg6OHLrEpkV4B4R5M&dib_tag=se&keywords=gaming+laptop&pd_rd_i=B0CRKGKZVX&pd_rd_r=0e3dec00-9d53-40c2-9ab5-1afcf71f0ef5&pd_rd_w=bUsOO&pd_rd_wg=I0jjD&pf_rd_p=288d7cd9-bdfb-4778-882a-c15de0f76151&pf_rd_r=XXZE55A4Y0KXRJAWSN0X&qid=1721201235&sbo=RZvfv%2F%2FHxDF%2BO5021pAnSA%3D%3D&sprefix=gaming+lap%2Caps%2C255&sr=1-1-9131241a-a358-4619-a7b8-0f5a65d91d81: HTTPSConnectionPool(host='www.amazon.inhttps', port=443): Max retries exceeded with url: //aax-eu.amazon.in/x/c/JG6huLo16eVKycRkNP317NQAAAGQv5aX2QMAAAH2AQBvbm9fdHhuX2JpZDMgICBvbm9fdHhuX2ltcDEgICB7iJbu/https://www.amazon.in/ARZOPA-Portable-Kickstand-External-Switch-Z1FC/dp/B0CRKGKZVX/ref=sxin_23_sbv_search_btf?content-id=amzn1.sym.288d7cd9-bdfb-4778-882a-c15de0f76151%3Aamzn1.sym.288d7cd9-bdfb-4778-882a-c15de0f76151&crid=R6YSRQZN57FV&cv_ct_cx=gaming+laptop&dib=eyJ2IjoiMSJ9.60h1nULbxOIH8XbHwpWOGQ.sF-q7GOITKxak8fnA4pv8FnzEtpg6OHLrEpkV4B4R5M&dib_tag=se&keywords=gaming+laptop&pd_rd_i=B0CRKGKZVX&pd_rd_r=0e3dec00-9d53-40c2-9ab5-1afcf71f0ef5&pd_rd_w=bUsOO&pd_rd_wg=I0jjD&pf_rd_p=288d7cd9-bdfb-4778-882a-c15de0f76151&pf_rd_r=XXZE55A4Y0KXRJAWSN0X&qid=1721201235&sbo=RZvfv%2F%2FHxDF%2BO5021pAnSA%3D%3D&sprefix=gaming+lap%2Caps%2C255&sr=1-1-9131241a-a358-4619-a7b8-0f5a65d91d81 (Caused by NameResolutionError(\"<urllib3.connection.HTTPSConnection object at 0x00000198CC1F1360>: Failed to resolve 'www.amazon.inhttps' ([Errno 11001] getaddrinfo failed)\"))\n",
      "Processing URL 20/31\n",
      "Processing URL 21/31\n",
      "Processing URL 22/31\n",
      "Processing URL 23/31\n",
      "Processing URL 24/31\n",
      "Processing URL 25/31\n",
      "Processing URL 26/31\n",
      "Processing URL 27/31\n",
      "Processing URL 28/31\n",
      "Processing URL 29/31\n",
      "Processing URL 30/31\n",
      "Error processing URL https://www.amazon.inhttps://aax-eu.amazon.in/x/c/JHupGGmyp4S7T25kLbg-ISEAAAGQv5aX3QMAAAH2AQBvbm9fdHhuX2JpZDEgICBvbm9fdHhuX2ltcDEgICDXygwO/https://www.amazon.in/MSI-PRO-MP251-Office-Monitor/dp/B0CLLK6JCW/ref=sxbs_sbv_search_btf?content-id=amzn1.sym.3353ca56-2043-45f1-9c2e-99dccef31d9d%3Aamzn1.sym.3353ca56-2043-45f1-9c2e-99dccef31d9d&crid=R6YSRQZN57FV&cv_ct_cx=gaming+laptop&dib=eyJ2IjoiMSJ9._w7PUYtQGndUImEBq50p2Q.px7ZZngWLntqXAdIey_e4XMe1ZRp1ebWDxLFkWl2q-U&dib_tag=se&keywords=gaming+laptop&pd_rd_i=B0CLLK6JCW&pd_rd_r=25d179ea-f5d6-4e42-be04-5374dfc291d8&pd_rd_w=adV4v&pd_rd_wg=c3N4u&pf_rd_p=3353ca56-2043-45f1-9c2e-99dccef31d9d&pf_rd_r=XXZE55A4Y0KXRJAWSN0X&qid=1721201235&sbo=RZvfv%2F%2FHxDF%2BO5021pAnSA%3D%3D&sprefix=gaming+lap%2Caps%2C255&sr=1-1-f1821008-9dea-4812-b2b6-4a6e4a4f2d55: HTTPSConnectionPool(host='www.amazon.inhttps', port=443): Max retries exceeded with url: //aax-eu.amazon.in/x/c/JHupGGmyp4S7T25kLbg-ISEAAAGQv5aX3QMAAAH2AQBvbm9fdHhuX2JpZDEgICBvbm9fdHhuX2ltcDEgICDXygwO/https://www.amazon.in/MSI-PRO-MP251-Office-Monitor/dp/B0CLLK6JCW/ref=sxbs_sbv_search_btf?content-id=amzn1.sym.3353ca56-2043-45f1-9c2e-99dccef31d9d%3Aamzn1.sym.3353ca56-2043-45f1-9c2e-99dccef31d9d&crid=R6YSRQZN57FV&cv_ct_cx=gaming+laptop&dib=eyJ2IjoiMSJ9._w7PUYtQGndUImEBq50p2Q.px7ZZngWLntqXAdIey_e4XMe1ZRp1ebWDxLFkWl2q-U&dib_tag=se&keywords=gaming+laptop&pd_rd_i=B0CLLK6JCW&pd_rd_r=25d179ea-f5d6-4e42-be04-5374dfc291d8&pd_rd_w=adV4v&pd_rd_wg=c3N4u&pf_rd_p=3353ca56-2043-45f1-9c2e-99dccef31d9d&pf_rd_r=XXZE55A4Y0KXRJAWSN0X&qid=1721201235&sbo=RZvfv%2F%2FHxDF%2BO5021pAnSA%3D%3D&sprefix=gaming+lap%2Caps%2C255&sr=1-1-f1821008-9dea-4812-b2b6-4a6e4a4f2d55 (Caused by NameResolutionError(\"<urllib3.connection.HTTPSConnection object at 0x00000198C6433430>: Failed to resolve 'www.amazon.inhttps' ([Errno 11001] getaddrinfo failed)\"))\n",
      "Processing URL 31/31\n",
      "Error processing URL https://www.amazon.inhttps://aax-eu.amazon.in/x/c/JHupGGmyp4S7T25kLbg-ISEAAAGQv5aX3QMAAAH2AQBvbm9fdHhuX2JpZDEgICBvbm9fdHhuX2ltcDEgICDXygwO/https://www.amazon.in/MSI-PRO-MP251-Office-Monitor/dp/B0CLLK6JCW/ref=sxbs_sbv_search_btf?content-id=amzn1.sym.3353ca56-2043-45f1-9c2e-99dccef31d9d%3Aamzn1.sym.3353ca56-2043-45f1-9c2e-99dccef31d9d&crid=R6YSRQZN57FV&cv_ct_cx=gaming+laptop&dib=eyJ2IjoiMSJ9._w7PUYtQGndUImEBq50p2Q.px7ZZngWLntqXAdIey_e4XMe1ZRp1ebWDxLFkWl2q-U&dib_tag=se&keywords=gaming+laptop&pd_rd_i=B0CLLK6JCW&pd_rd_r=25d179ea-f5d6-4e42-be04-5374dfc291d8&pd_rd_w=adV4v&pd_rd_wg=c3N4u&pf_rd_p=3353ca56-2043-45f1-9c2e-99dccef31d9d&pf_rd_r=XXZE55A4Y0KXRJAWSN0X&qid=1721201235&sbo=RZvfv%2F%2FHxDF%2BO5021pAnSA%3D%3D&sprefix=gaming+lap%2Caps%2C255&sr=1-1-f1821008-9dea-4812-b2b6-4a6e4a4f2d55: HTTPSConnectionPool(host='www.amazon.inhttps', port=443): Max retries exceeded with url: //aax-eu.amazon.in/x/c/JHupGGmyp4S7T25kLbg-ISEAAAGQv5aX3QMAAAH2AQBvbm9fdHhuX2JpZDEgICBvbm9fdHhuX2ltcDEgICDXygwO/https://www.amazon.in/MSI-PRO-MP251-Office-Monitor/dp/B0CLLK6JCW/ref=sxbs_sbv_search_btf?content-id=amzn1.sym.3353ca56-2043-45f1-9c2e-99dccef31d9d%3Aamzn1.sym.3353ca56-2043-45f1-9c2e-99dccef31d9d&crid=R6YSRQZN57FV&cv_ct_cx=gaming+laptop&dib=eyJ2IjoiMSJ9._w7PUYtQGndUImEBq50p2Q.px7ZZngWLntqXAdIey_e4XMe1ZRp1ebWDxLFkWl2q-U&dib_tag=se&keywords=gaming+laptop&pd_rd_i=B0CLLK6JCW&pd_rd_r=25d179ea-f5d6-4e42-be04-5374dfc291d8&pd_rd_w=adV4v&pd_rd_wg=c3N4u&pf_rd_p=3353ca56-2043-45f1-9c2e-99dccef31d9d&pf_rd_r=XXZE55A4Y0KXRJAWSN0X&qid=1721201235&sbo=RZvfv%2F%2FHxDF%2BO5021pAnSA%3D%3D&sprefix=gaming+lap%2Caps%2C255&sr=1-1-f1821008-9dea-4812-b2b6-4a6e4a4f2d55 (Caused by NameResolutionError(\"<urllib3.connection.HTTPSConnection object at 0x00000198C6433C10>: Failed to resolve 'www.amazon.inhttps' ([Errno 11001] getaddrinfo failed)\"))\n",
      "Process completed successfully. Data saved to amazon_data.csv.\n"
     ]
    },
    {
     "name": "stderr",
     "output_type": "stream",
     "text": [
      "C:\\Users\\shama\\AppData\\Local\\Temp\\ipykernel_22148\\1465635697.py:123: FutureWarning: A value is trying to be set on a copy of a DataFrame or Series through chained assignment using an inplace method.\n",
      "The behavior will change in pandas 3.0. This inplace method will never work because the intermediate object on which we are setting values always behaves as a copy.\n",
      "\n",
      "For example, when doing 'df[col].method(value, inplace=True)', try using 'df.method({col: value}, inplace=True)' or df[col] = df[col].method(value) instead, to perform the operation inplace on the original object.\n",
      "\n",
      "\n",
      "  amazon_df['title'].replace('', np.nan, inplace=True)\n"
     ]
    }
   ],
   "source": [
    "import requests\n",
    "from bs4 import BeautifulSoup\n",
    "import pandas as pd\n",
    "import numpy as np\n",
    "\n",
    "def get_title(soup):\n",
    "    try:\n",
    "        title = soup.find(\"span\", attrs={\"id\":'productTitle'})\n",
    "        title_value = title.text\n",
    "        title_string = title_value.strip()\n",
    "    except AttributeError:\n",
    "        title_string = \"\"\n",
    "    return title_string\n",
    "\n",
    "def get_price(soup):\n",
    "    try:\n",
    "        price = soup.find(\"span\", attrs={'class':'a-price-whole'}).text.strip().rstrip('.')\n",
    "    except AttributeError:\n",
    "        price = \"\"\n",
    "    return price\n",
    "\n",
    "def get_rating(soup):\n",
    "    try:\n",
    "        rating = soup.find(\"i\", attrs={'class':'a-icon a-icon-star a-star-4-5'}).string.strip()\n",
    "    except AttributeError:\n",
    "        try:\n",
    "            rating = soup.find(\"span\", attrs={'class':'a-icon-alt'}).string.strip()\n",
    "        except:\n",
    "            rating = \"\"\t\n",
    "    return rating\n",
    "\n",
    "def get_review_count(soup):\n",
    "    try:\n",
    "        review_count = soup.find(\"span\", attrs={'id':'acrCustomerReviewText'}).string.strip()\n",
    "    except AttributeError:\n",
    "        review_count = \"\"\t\n",
    "    return review_count\n",
    "\n",
    "def get_availability(soup):\n",
    "    try:\n",
    "        available = soup.find(\"span\", attrs={'class':'a-size-medium a-color-success'}).string.strip()\n",
    "    except AttributeError:\n",
    "        available = \"Not Available\"\t\n",
    "    return available\n",
    "\n",
    "if __name__ == '__main__':\n",
    "\n",
    "    HEADERS = {\n",
    "        'User-Agent': 'Mozilla/5.0 (Windows NT 10.0; Win64; x64; rv:91.0) Gecko/20100101 Firefox/91.0',\n",
    "        'Accept-Language': 'en-US,en;q=0.5',\n",
    "        'Accept-Encoding': 'gzip, deflate, br',\n",
    "        'Connection': 'keep-alive',\n",
    "        'Cache-Control': 'max-age=0',\n",
    "        'Upgrade-Insecure-Requests': '1',\n",
    "        'Accept': 'text/html,application/xhtml+xml,application/xml;q=0.9,image/webp,*/*;q=0.8',\n",
    "    }\n",
    "\n",
    "    base_url = \"https://www.amazon.in\"\n",
    "\n",
    "    URL = \"https://www.amazon.in/s?k=gaming+laptop&crid=R6YSRQZN57FV&sprefix=gaming+lap%2Caps%2C255&ref=nb_sb_ss_pltr-sample-20_2_10\"\n",
    "\n",
    "    # HTTP Request\n",
    "    print(\"Fetching main search page.......\")\n",
    "    webpage = requests.get(URL, headers=HEADERS)\n",
    "\n",
    "    # Check if the request was successful\n",
    "    if webpage.status_code != 200:\n",
    "        print(f\"Failed to fetch webpage. Status code: {webpage.status_code}\")\n",
    "        exit()\n",
    "\n",
    "    # Soup Object containing all data\n",
    "    soup = BeautifulSoup(webpage.content, \"html.parser\")\n",
    "\n",
    "    # Fetch links as List of Tag Objects\n",
    "    links = soup.find_all(\"a\", attrs={'class':'a-link-normal s-no-outline'})\n",
    "\n",
    "    # Store the links\n",
    "    links_list = []\n",
    "\n",
    "    # Loop for extracting links from Tag Objects\n",
    "    print(\"Extracting product links........\")\n",
    "    for link in links:\n",
    "        links_list.append(link.get('href'))\n",
    "\n",
    "    d = {\"title\":[], \"price\":[], \"rating\":[], \"reviews\":[],\"availability\":[]}\n",
    "    \n",
    "    # Loop for extracting product details from each link \n",
    "    for index, link in enumerate(links_list):\n",
    "        try:\n",
    "            full_url = base_url + link\n",
    "            print(f\"Processing URL {index+1}/{len(links_list)}\")\n",
    "            new_webpage = requests.get(full_url, headers=HEADERS)\n",
    "\n",
    "            # Check if the request to the product page was successful\n",
    "            if new_webpage.status_code != 200:\n",
    "                print(f\"Failed to fetch product page. Status code: {new_webpage.status_code}\")\n",
    "                continue\n",
    "            \n",
    "            new_soup = BeautifulSoup(new_webpage.content, \"html.parser\")\n",
    "\n",
    "            # Function calls to display all necessary product information\n",
    "            title = get_title(new_soup)\n",
    "            price = get_price(new_soup)\n",
    "            rating = get_rating(new_soup)\n",
    "            review_count = get_review_count(new_soup)\n",
    "            availability = get_availability(new_soup)\n",
    "\n",
    "            # Append data to dictionary\n",
    "            d['title'].append(title)\n",
    "            d['price'].append(price)\n",
    "            d['rating'].append(rating)\n",
    "            d['reviews'].append(review_count)\n",
    "            d['availability'].append(availability)\n",
    "        \n",
    "        except Exception as e:\n",
    "            print(f\"Error processing URL {full_url}: {str(e)}\")\n",
    "            continue  # Skip to the next URL in case of error\n",
    "    \n",
    "    # Convert dictionary to DataFrame\n",
    "    amazon_df = pd.DataFrame.from_dict(d)\n",
    "\n",
    "    # Drop rows where title is NaN\n",
    "    amazon_df['title'] = amazon_df['title'].replace('', np.nan)\n",
    "    amazon_df = amazon_df.dropna(subset=['title'])\n",
    "\n",
    "    # Save DataFrame to CSV\n",
    "    amazon_df.to_csv(\"amazon_data.csv\", header=True, index=False)\n",
    "\n",
    "    print(\"Process completed successfully. Data saved to amazon_data.csv.\")\n",
    "\n"
   ]
  },
  {
   "cell_type": "code",
   "execution_count": null,
   "id": "374fc3d4-0a6a-443a-95e3-e69c683a9ec9",
   "metadata": {},
   "outputs": [],
   "source": []
  }
 ],
 "metadata": {
  "kernelspec": {
   "display_name": "Python 3 (ipykernel)",
   "language": "python",
   "name": "python3"
  },
  "language_info": {
   "codemirror_mode": {
    "name": "ipython",
    "version": 3
   },
   "file_extension": ".py",
   "mimetype": "text/x-python",
   "name": "python",
   "nbconvert_exporter": "python",
   "pygments_lexer": "ipython3",
   "version": "3.10.7"
  }
 },
 "nbformat": 4,
 "nbformat_minor": 5
}
